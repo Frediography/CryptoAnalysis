{
 "cells": [
  {
   "cell_type": "markdown",
   "metadata": {},
   "source": [
    "The below code takes a load of information from MongoDB on the local server (that this Jupyter Notebook is running off) and visually analyses some of it - to look for correlations.\n",
    "\n",
    "The first step is to import the required dependencies:"
   ]
  },
  {
   "cell_type": "code",
   "execution_count": 1,
   "metadata": {},
   "outputs": [],
   "source": [
    "import pandas as pd\n",
    "import pymongo\n",
    "from pymongo import MongoClient\n",
    "import pprint\n",
    "import json  \n",
    "import datetime\n",
    "from dateutil.parser import parse\n",
    "from poloniex import Poloniex\n",
    "import numpy as np\n",
    "import logins\n",
    "import matplotlib.pyplot as plt"
   ]
  },
  {
   "cell_type": "markdown",
   "metadata": {},
   "source": [
    "Once dependencies are imported, set up our MongoDB variables:"
   ]
  },
  {
   "cell_type": "code",
   "execution_count": 2,
   "metadata": {},
   "outputs": [],
   "source": [
    "client = pymongo.MongoClient('mongodb://localhost:27017')\n",
    "db = client.CryptoTrader"
   ]
  },
  {
   "cell_type": "markdown",
   "metadata": {},
   "source": [
    "Check we have the data we want: (Turned off by default)"
   ]
  },
  {
   "cell_type": "code",
   "execution_count": 3,
   "metadata": {},
   "outputs": [],
   "source": [
    "# Don't run the below as anything other than a check it takes too long\n",
    "#for a in db.tickerdata.find():\n",
    "#    pprint.pprint(a)"
   ]
  },
  {
   "cell_type": "code",
   "execution_count": 4,
   "metadata": {},
   "outputs": [],
   "source": [
    "# Don't run the below as anything other than a check it takes too long\n",
    "#for a in db.tweets.find():\n",
    "#    pprint.pprint(a)"
   ]
  },
  {
   "cell_type": "markdown",
   "metadata": {},
   "source": [
    "Make a dataframe for our tickerdata - determining the parameters we want and turning the parameters into the datatype that we need them to be (e.g. timeanddate into datetime data type)"
   ]
  },
  {
   "cell_type": "code",
   "execution_count": 5,
   "metadata": {},
   "outputs": [
    {
     "name": "stdout",
     "output_type": "stream",
     "text": [
      "                            _id        last         timeanddate\n",
      "0      5a820eff11f24a222ab2de3d  868.347560 2018-02-12 22:02:39\n",
      "1      5a820f1711f24a225573e8ef  865.001908 2018-02-12 22:03:03\n",
      "2      5a820f5211f24a22b2820e5c  865.001908 2018-02-12 22:04:02\n",
      "3      5a820f8e11f24a230c7a0d3e  865.001908 2018-02-12 22:05:02\n",
      "4      5a820fcb11f24a23a9a63349  865.001908 2018-02-12 22:06:03\n",
      "5      5a82100611f24a240c1cf36d  865.001908 2018-02-12 22:07:02\n",
      "6      5a82104211f24a2472e1e49c  867.556200 2018-02-12 22:08:02\n",
      "7      5a82107f11f24a24e68046a1  867.556199 2018-02-12 22:09:03\n",
      "8      5a8210ba11f24a2551ac86ee  865.027451 2018-02-12 22:10:02\n",
      "9      5a8210f611f24a25afe6692b  865.000000 2018-02-12 22:11:02\n",
      "10     5a82113311f24a263a98e767  863.000000 2018-02-12 22:12:03\n",
      "11     5a82116e11f24a26b1b9937e  863.000000 2018-02-12 22:13:02\n",
      "12     5a8211ab11f24a2705fe20f8  865.099826 2018-02-12 22:14:03\n",
      "13     5a8211e611f24a275b0c4156  863.000000 2018-02-12 22:15:02\n",
      "14     5a82122211f24a27aa1cb4b3  863.000000 2018-02-12 22:16:02\n",
      "15     5a82125f11f24a2800f2b8a5  860.000000 2018-02-12 22:17:03\n",
      "16     5a82129b11f24a28595226f2  860.960000 2018-02-12 22:18:03\n",
      "17     5a8212d611f24a28e19d6f0a  860.000001 2018-02-12 22:19:02\n",
      "18     5a82131211f24a29361a078f  860.000001 2018-02-12 22:20:02\n",
      "19     5a82134f11f24a298ce50c0d  860.000001 2018-02-12 22:21:03\n",
      "20     5a82138a11f24a29e2988bd3  860.000000 2018-02-12 22:22:02\n",
      "21     5a8213c711f24a2a3650288c  860.960000 2018-02-12 22:23:03\n",
      "22     5a82140211f24a2a8ccca473  860.000001 2018-02-12 22:24:02\n",
      "23     5a82143e11f24a2ae1d9a9a2  860.960000 2018-02-12 22:25:02\n",
      "24     5a82147a11f24a2b365af084  862.689999 2018-02-12 22:26:02\n",
      "25     5a8214b611f24a2b86211c4c  860.000001 2018-02-12 22:27:02\n",
      "26     5a8214f311f24a2bdcaabea0  862.689998 2018-02-12 22:28:03\n",
      "27     5a82152f11f24a2c338744c5  862.689998 2018-02-12 22:29:03\n",
      "28     5a82156b11f24a2c9f94cde8  862.689998 2018-02-12 22:30:03\n",
      "29     5a8215a611f24a2d296201b4  862.689997 2018-02-12 22:31:02\n",
      "...                         ...         ...                 ...\n",
      "26261  5ae0565211f24ac1cbf03aa2  622.222222 2018-04-25 10:20:02\n",
      "26262  5ae058aa11f24ac327cfd0a1  623.769999 2018-04-25 10:30:02\n",
      "26263  5ae05b0211f24ac46eb2a96c  615.380710 2018-04-25 10:40:02\n",
      "26264  5ae05d5911f24ac582f0c429  605.500000 2018-04-25 10:50:01\n",
      "26265  5ae05fb211f24ac68b8ca0bf  622.727214 2018-04-25 11:00:02\n",
      "26266  5ae0620911f24ac7c740b82c  617.000000 2018-04-25 11:10:01\n",
      "26267  5ae0646211f24ac911237908  615.650000 2018-04-25 11:20:02\n",
      "26268  5ae066ba11f24aca2a896f4b  615.700000 2018-04-25 11:30:02\n",
      "26269  5ae0691211f24acb419be1d0  623.000001 2018-04-25 11:40:02\n",
      "26270  5ae06b6a11f24acc4fa9c6d9  619.927525 2018-04-25 11:50:02\n",
      "26271  5ae06dc211f24acd811a191f  630.290892 2018-04-25 12:00:02\n",
      "26272  5ae0701a11f24ace8962d27f  639.324396 2018-04-25 12:10:02\n",
      "26273  5ae0727211f24acfd420cece  634.000000 2018-04-25 12:20:02\n",
      "26274  5ae074ca11f24ad14cfff778  624.325516 2018-04-25 12:30:02\n",
      "26275  5ae0772211f24ad2c0348976  626.973027 2018-04-25 12:40:02\n",
      "26276  5ae0797a11f24ad42f51e57c  632.775449 2018-04-25 12:50:02\n",
      "26277  5ae07bd111f24ad5a3ac894c  631.612995 2018-04-25 13:00:01\n",
      "26278  5ae07e2a11f24ad7181372a2  630.393544 2018-04-25 13:10:02\n",
      "26279  5ae0808211f24ad891249843  631.612995 2018-04-25 13:20:02\n",
      "26280  5ae082db11f24ada042773ac  619.927525 2018-04-25 13:30:03\n",
      "26281  5ae0853211f24adb765dcd48  618.999998 2018-04-25 13:40:02\n",
      "26282  5ae0878a11f24adce91c14e5  615.468899 2018-04-25 13:50:02\n",
      "26283  5ae089e211f24ade64594a52  618.829501 2018-04-25 14:00:02\n",
      "26284  5ae08c3a11f24ae12eac368b  618.000000 2018-04-25 14:10:02\n",
      "26285  5ae08e9211f24ae2882716bf  607.700000 2018-04-25 14:20:02\n",
      "26286  5ae090ea11f24ae3f87050e5  600.332111 2018-04-25 14:30:02\n",
      "26287  5ae0934911f24ae56ceab467  599.000000 2018-04-25 14:40:09\n",
      "26288  5ae0959a11f24ae6e97689f0  599.585016 2018-04-25 14:50:02\n",
      "26289  5ae097f211f24ae86062ec52  608.773886 2018-04-25 15:00:02\n",
      "26290  5ae09a4a11f24ae9de45e8c0  612.375213 2018-04-25 15:10:02\n",
      "\n",
      "[26291 rows x 3 columns]\n"
     ]
    }
   ],
   "source": [
    "tickerdf = pd.DataFrame(list(db.tickerdata.find({}, {'last' : 1, 'timeanddate': 1})))\n",
    "tickerdf['timeanddate'] = pd.to_datetime(tickerdf['timeanddate'])\n",
    "print(tickerdf)"
   ]
  },
  {
   "cell_type": "markdown",
   "metadata": {},
   "source": [
    "Print out a view of the tickerdata that we've got:"
   ]
  },
  {
   "cell_type": "code",
   "execution_count": 6,
   "metadata": {
    "scrolled": false
   },
   "outputs": [
    {
     "data": {
      "text/plain": [
       "<matplotlib.axes._subplots.AxesSubplot at 0x7f7e619fe9e8>"
      ]
     },
     "execution_count": 6,
     "metadata": {},
     "output_type": "execute_result"
    },
    {
     "data": {
      "image/png": "[encoded data removed]",
      "text/plain": [
       "<matplotlib.figure.Figure at 0x7f7e61dd8e80>"
      ]
     },
     "metadata": {},
     "output_type": "display_data"
    }
   ],
   "source": [
    "tickerdf.plot(x='timeanddate', y='last', figsize=(10,5))"
   ]
  },
  {
   "cell_type": "markdown",
   "metadata": {},
   "source": [
    "Now to look at tweets - first put them all in a new pandas dataframe"
   ]
  },
  {
   "cell_type": "code",
   "execution_count": 7,
   "metadata": {},
   "outputs": [
    {
     "ename": "MemoryError",
     "evalue": "",
     "output_type": "error",
     "traceback": [
      "\u001b[0;31m---------------------------------------------------------------------------\u001b[0m",
      "\u001b[0;31mMemoryError\u001b[0m                               Traceback (most recent call last)",
      "\u001b[0;32m<ipython-input-7-90ebb47c7ef4>\u001b[0m in \u001b[0;36m<module>\u001b[0;34m()\u001b[0m\n\u001b[0;32m----> 1\u001b[0;31m \u001b[0mtweetdf\u001b[0m \u001b[0;34m=\u001b[0m \u001b[0mpd\u001b[0m\u001b[0;34m.\u001b[0m\u001b[0mDataFrame\u001b[0m\u001b[0;34m(\u001b[0m\u001b[0mlist\u001b[0m\u001b[0;34m(\u001b[0m\u001b[0mdb\u001b[0m\u001b[0;34m.\u001b[0m\u001b[0mtweets\u001b[0m\u001b[0;34m.\u001b[0m\u001b[0mfind\u001b[0m\u001b[0;34m(\u001b[0m\u001b[0;34m{\u001b[0m\u001b[0;34m}\u001b[0m\u001b[0;34m,\u001b[0m \u001b[0;34m{\u001b[0m\u001b[0;34m'timeanddate'\u001b[0m\u001b[0;34m:\u001b[0m \u001b[0;36m1\u001b[0m\u001b[0;34m,\u001b[0m \u001b[0;34m'polarity'\u001b[0m\u001b[0;34m:\u001b[0m \u001b[0;36m1\u001b[0m\u001b[0;34m,\u001b[0m \u001b[0;34m'subjectivity'\u001b[0m\u001b[0;34m:\u001b[0m \u001b[0;36m1\u001b[0m\u001b[0;34m}\u001b[0m\u001b[0;34m)\u001b[0m\u001b[0;34m)\u001b[0m\u001b[0;34m)\u001b[0m\u001b[0;34m\u001b[0m\u001b[0m\n\u001b[0m\u001b[1;32m      2\u001b[0m \u001b[0mtweetdf\u001b[0m\u001b[0;34m[\u001b[0m\u001b[0;34m'timeanddate'\u001b[0m\u001b[0;34m]\u001b[0m \u001b[0;34m=\u001b[0m \u001b[0mpd\u001b[0m\u001b[0;34m.\u001b[0m\u001b[0mto_datetime\u001b[0m\u001b[0;34m(\u001b[0m\u001b[0mtweetdf\u001b[0m\u001b[0;34m[\u001b[0m\u001b[0;34m'timeanddate'\u001b[0m\u001b[0;34m]\u001b[0m\u001b[0;34m)\u001b[0m\u001b[0;34m\u001b[0m\u001b[0m\n\u001b[1;32m      3\u001b[0m \u001b[0mtweetdf\u001b[0m\u001b[0;34m[\u001b[0m\u001b[0;34m'subjectivity'\u001b[0m\u001b[0;34m]\u001b[0m \u001b[0;34m=\u001b[0m \u001b[0mpd\u001b[0m\u001b[0;34m.\u001b[0m\u001b[0mto_numeric\u001b[0m\u001b[0;34m(\u001b[0m\u001b[0mtweetdf\u001b[0m\u001b[0;34m[\u001b[0m\u001b[0;34m'subjectivity'\u001b[0m\u001b[0;34m]\u001b[0m\u001b[0;34m)\u001b[0m\u001b[0;34m\u001b[0m\u001b[0m\n\u001b[1;32m      4\u001b[0m \u001b[0mtweetdf\u001b[0m\u001b[0;34m[\u001b[0m\u001b[0;34m'polarity'\u001b[0m\u001b[0;34m]\u001b[0m \u001b[0;34m=\u001b[0m \u001b[0mpd\u001b[0m\u001b[0;34m.\u001b[0m\u001b[0mto_numeric\u001b[0m\u001b[0;34m(\u001b[0m\u001b[0mtweetdf\u001b[0m\u001b[0;34m[\u001b[0m\u001b[0;34m'polarity'\u001b[0m\u001b[0;34m]\u001b[0m\u001b[0;34m)\u001b[0m\u001b[0;34m\u001b[0m\u001b[0m\n",
      "\u001b[0;32m/usr/local/lib/python3.6/dist-packages/pymongo/cursor.py\u001b[0m in \u001b[0;36mnext\u001b[0;34m(self)\u001b[0m\n\u001b[1;32m   1174\u001b[0m         \u001b[0;32mif\u001b[0m \u001b[0mself\u001b[0m\u001b[0;34m.\u001b[0m\u001b[0m__empty\u001b[0m\u001b[0;34m:\u001b[0m\u001b[0;34m\u001b[0m\u001b[0m\n\u001b[1;32m   1175\u001b[0m             \u001b[0;32mraise\u001b[0m \u001b[0mStopIteration\u001b[0m\u001b[0;34m\u001b[0m\u001b[0m\n\u001b[0;32m-> 1176\u001b[0;31m         \u001b[0;32mif\u001b[0m \u001b[0mlen\u001b[0m\u001b[0;34m(\u001b[0m\u001b[0mself\u001b[0m\u001b[0;34m.\u001b[0m\u001b[0m__data\u001b[0m\u001b[0;34m)\u001b[0m \u001b[0;32mor\u001b[0m \u001b[0mself\u001b[0m\u001b[0;34m.\u001b[0m\u001b[0m_refresh\u001b[0m\u001b[0;34m(\u001b[0m\u001b[0;34m)\u001b[0m\u001b[0;34m:\u001b[0m\u001b[0;34m\u001b[0m\u001b[0m\n\u001b[0m\u001b[1;32m   1177\u001b[0m             \u001b[0;32mif\u001b[0m \u001b[0mself\u001b[0m\u001b[0;34m.\u001b[0m\u001b[0m__manipulate\u001b[0m\u001b[0;34m:\u001b[0m\u001b[0;34m\u001b[0m\u001b[0m\n\u001b[1;32m   1178\u001b[0m                 \u001b[0m_db\u001b[0m \u001b[0;34m=\u001b[0m \u001b[0mself\u001b[0m\u001b[0;34m.\u001b[0m\u001b[0m__collection\u001b[0m\u001b[0;34m.\u001b[0m\u001b[0mdatabase\u001b[0m\u001b[0;34m\u001b[0m\u001b[0m\n",
      "\u001b[0;32m/usr/local/lib/python3.6/dist-packages/pymongo/cursor.py\u001b[0m in \u001b[0;36m_refresh\u001b[0;34m(self)\u001b[0m\n\u001b[1;32m   1108\u001b[0m                                         \u001b[0mself\u001b[0m\u001b[0;34m.\u001b[0m\u001b[0m__collection\u001b[0m\u001b[0;34m.\u001b[0m\u001b[0mdatabase\u001b[0m\u001b[0;34m.\u001b[0m\u001b[0mclient\u001b[0m\u001b[0;34m,\u001b[0m\u001b[0;34m\u001b[0m\u001b[0m\n\u001b[1;32m   1109\u001b[0m                                         self.__max_await_time_ms)\n\u001b[0;32m-> 1110\u001b[0;31m                 \u001b[0mself\u001b[0m\u001b[0;34m.\u001b[0m\u001b[0m__send_message\u001b[0m\u001b[0;34m(\u001b[0m\u001b[0mg\u001b[0m\u001b[0;34m)\u001b[0m\u001b[0;34m\u001b[0m\u001b[0m\n\u001b[0m\u001b[1;32m   1111\u001b[0m \u001b[0;34m\u001b[0m\u001b[0m\n\u001b[1;32m   1112\u001b[0m         \u001b[0;32melse\u001b[0m\u001b[0;34m:\u001b[0m  \u001b[0;31m# Cursor id is zero nothing else to return\u001b[0m\u001b[0;34m\u001b[0m\u001b[0m\n",
      "\u001b[0;32m/usr/local/lib/python3.6/dist-packages/pymongo/cursor.py\u001b[0m in \u001b[0;36m__send_message\u001b[0;34m(self, operation)\u001b[0m\n\u001b[1;32m    922\u001b[0m             \u001b[0;32mtry\u001b[0m\u001b[0;34m:\u001b[0m\u001b[0;34m\u001b[0m\u001b[0m\n\u001b[1;32m    923\u001b[0m                 response = client._send_message_with_response(operation,\n\u001b[0;32m--> 924\u001b[0;31m                                                               **kwargs)\n\u001b[0m\u001b[1;32m    925\u001b[0m                 \u001b[0mself\u001b[0m\u001b[0;34m.\u001b[0m\u001b[0m__address\u001b[0m \u001b[0;34m=\u001b[0m \u001b[0mresponse\u001b[0m\u001b[0;34m.\u001b[0m\u001b[0maddress\u001b[0m\u001b[0;34m\u001b[0m\u001b[0m\n\u001b[1;32m    926\u001b[0m                 \u001b[0;32mif\u001b[0m \u001b[0mself\u001b[0m\u001b[0;34m.\u001b[0m\u001b[0m__exhaust\u001b[0m\u001b[0;34m:\u001b[0m\u001b[0;34m\u001b[0m\u001b[0m\n",
      "\u001b[0;32m/usr/local/lib/python3.6/dist-packages/pymongo/mongo_client.py\u001b[0m in \u001b[0;36m_send_message_with_response\u001b[0;34m(self, operation, read_preference, exhaust, address)\u001b[0m\n\u001b[1;32m   1024\u001b[0m             \u001b[0mself\u001b[0m\u001b[0;34m.\u001b[0m\u001b[0m__all_credentials\u001b[0m\u001b[0;34m,\u001b[0m\u001b[0;34m\u001b[0m\u001b[0m\n\u001b[1;32m   1025\u001b[0m             \u001b[0mself\u001b[0m\u001b[0;34m.\u001b[0m\u001b[0m_event_listeners\u001b[0m\u001b[0;34m,\u001b[0m\u001b[0;34m\u001b[0m\u001b[0m\n\u001b[0;32m-> 1026\u001b[0;31m             exhaust)\n\u001b[0m\u001b[1;32m   1027\u001b[0m \u001b[0;34m\u001b[0m\u001b[0m\n\u001b[1;32m   1028\u001b[0m     \u001b[0;32mdef\u001b[0m \u001b[0m_reset_on_error\u001b[0m\u001b[0;34m(\u001b[0m\u001b[0mself\u001b[0m\u001b[0;34m,\u001b[0m \u001b[0mserver\u001b[0m\u001b[0;34m,\u001b[0m \u001b[0mfunc\u001b[0m\u001b[0;34m,\u001b[0m \u001b[0;34m*\u001b[0m\u001b[0margs\u001b[0m\u001b[0;34m,\u001b[0m \u001b[0;34m**\u001b[0m\u001b[0mkwargs\u001b[0m\u001b[0;34m)\u001b[0m\u001b[0;34m:\u001b[0m\u001b[0;34m\u001b[0m\u001b[0m\n",
      "\u001b[0;32m/usr/local/lib/python3.6/dist-packages/pymongo/mongo_client.py\u001b[0m in \u001b[0;36m_reset_on_error\u001b[0;34m(self, server, func, *args, **kwargs)\u001b[0m\n\u001b[1;32m   1035\u001b[0m         \"\"\"\n\u001b[1;32m   1036\u001b[0m         \u001b[0;32mtry\u001b[0m\u001b[0;34m:\u001b[0m\u001b[0;34m\u001b[0m\u001b[0m\n\u001b[0;32m-> 1037\u001b[0;31m             \u001b[0;32mreturn\u001b[0m \u001b[0mfunc\u001b[0m\u001b[0;34m(\u001b[0m\u001b[0;34m*\u001b[0m\u001b[0margs\u001b[0m\u001b[0;34m,\u001b[0m \u001b[0;34m**\u001b[0m\u001b[0mkwargs\u001b[0m\u001b[0;34m)\u001b[0m\u001b[0;34m\u001b[0m\u001b[0m\n\u001b[0m\u001b[1;32m   1038\u001b[0m         \u001b[0;32mexcept\u001b[0m \u001b[0mNetworkTimeout\u001b[0m\u001b[0;34m:\u001b[0m\u001b[0;34m\u001b[0m\u001b[0m\n\u001b[1;32m   1039\u001b[0m             \u001b[0;31m# The socket has been closed. Don't reset the server.\u001b[0m\u001b[0;34m\u001b[0m\u001b[0;34m\u001b[0m\u001b[0m\n",
      "\u001b[0;32m/usr/local/lib/python3.6/dist-packages/pymongo/server.py\u001b[0m in \u001b[0;36msend_message_with_response\u001b[0;34m(self, operation, set_slave_okay, all_credentials, listeners, exhaust)\u001b[0m\n\u001b[1;32m    104\u001b[0m             \u001b[0;32mtry\u001b[0m\u001b[0;34m:\u001b[0m\u001b[0;34m\u001b[0m\u001b[0m\n\u001b[1;32m    105\u001b[0m                 \u001b[0msock_info\u001b[0m\u001b[0;34m.\u001b[0m\u001b[0msend_message\u001b[0m\u001b[0;34m(\u001b[0m\u001b[0mdata\u001b[0m\u001b[0;34m,\u001b[0m \u001b[0mmax_doc_size\u001b[0m\u001b[0;34m)\u001b[0m\u001b[0;34m\u001b[0m\u001b[0m\n\u001b[0;32m--> 106\u001b[0;31m                 \u001b[0mreply\u001b[0m \u001b[0;34m=\u001b[0m \u001b[0msock_info\u001b[0m\u001b[0;34m.\u001b[0m\u001b[0mreceive_message\u001b[0m\u001b[0;34m(\u001b[0m\u001b[0mrequest_id\u001b[0m\u001b[0;34m)\u001b[0m\u001b[0;34m\u001b[0m\u001b[0m\n\u001b[0m\u001b[1;32m    107\u001b[0m             \u001b[0;32mexcept\u001b[0m \u001b[0mException\u001b[0m \u001b[0;32mas\u001b[0m \u001b[0mexc\u001b[0m\u001b[0;34m:\u001b[0m\u001b[0;34m\u001b[0m\u001b[0m\n\u001b[1;32m    108\u001b[0m                 \u001b[0;32mif\u001b[0m \u001b[0mpublish\u001b[0m\u001b[0;34m:\u001b[0m\u001b[0;34m\u001b[0m\u001b[0m\n",
      "\u001b[0;32m/usr/local/lib/python3.6/dist-packages/pymongo/pool.py\u001b[0m in \u001b[0;36mreceive_message\u001b[0;34m(self, request_id)\u001b[0m\n\u001b[1;32m    527\u001b[0m                                    self.max_message_size)\n\u001b[1;32m    528\u001b[0m         \u001b[0;32mexcept\u001b[0m \u001b[0mBaseException\u001b[0m \u001b[0;32mas\u001b[0m \u001b[0merror\u001b[0m\u001b[0;34m:\u001b[0m\u001b[0;34m\u001b[0m\u001b[0m\n\u001b[0;32m--> 529\u001b[0;31m             \u001b[0mself\u001b[0m\u001b[0;34m.\u001b[0m\u001b[0m_raise_connection_failure\u001b[0m\u001b[0;34m(\u001b[0m\u001b[0merror\u001b[0m\u001b[0;34m)\u001b[0m\u001b[0;34m\u001b[0m\u001b[0m\n\u001b[0m\u001b[1;32m    530\u001b[0m \u001b[0;34m\u001b[0m\u001b[0m\n\u001b[1;32m    531\u001b[0m     \u001b[0;32mdef\u001b[0m \u001b[0mlegacy_write\u001b[0m\u001b[0;34m(\u001b[0m\u001b[0mself\u001b[0m\u001b[0;34m,\u001b[0m \u001b[0mrequest_id\u001b[0m\u001b[0;34m,\u001b[0m \u001b[0mmsg\u001b[0m\u001b[0;34m,\u001b[0m \u001b[0mmax_doc_size\u001b[0m\u001b[0;34m,\u001b[0m \u001b[0mwith_last_error\u001b[0m\u001b[0;34m)\u001b[0m\u001b[0;34m:\u001b[0m\u001b[0;34m\u001b[0m\u001b[0m\n",
      "\u001b[0;32m/usr/local/lib/python3.6/dist-packages/pymongo/pool.py\u001b[0m in \u001b[0;36m_raise_connection_failure\u001b[0;34m(self, error)\u001b[0m\n\u001b[1;32m    647\u001b[0m             \u001b[0m_raise_connection_failure\u001b[0m\u001b[0;34m(\u001b[0m\u001b[0mself\u001b[0m\u001b[0;34m.\u001b[0m\u001b[0maddress\u001b[0m\u001b[0;34m,\u001b[0m \u001b[0merror\u001b[0m\u001b[0;34m)\u001b[0m\u001b[0;34m\u001b[0m\u001b[0m\n\u001b[1;32m    648\u001b[0m         \u001b[0;32melse\u001b[0m\u001b[0;34m:\u001b[0m\u001b[0;34m\u001b[0m\u001b[0m\n\u001b[0;32m--> 649\u001b[0;31m             \u001b[0;32mraise\u001b[0m \u001b[0merror\u001b[0m\u001b[0;34m\u001b[0m\u001b[0m\n\u001b[0m\u001b[1;32m    650\u001b[0m \u001b[0;34m\u001b[0m\u001b[0m\n\u001b[1;32m    651\u001b[0m     \u001b[0;32mdef\u001b[0m \u001b[0m__eq__\u001b[0m\u001b[0;34m(\u001b[0m\u001b[0mself\u001b[0m\u001b[0;34m,\u001b[0m \u001b[0mother\u001b[0m\u001b[0;34m)\u001b[0m\u001b[0;34m:\u001b[0m\u001b[0;34m\u001b[0m\u001b[0m\n",
      "\u001b[0;32m/usr/local/lib/python3.6/dist-packages/pymongo/pool.py\u001b[0m in \u001b[0;36mreceive_message\u001b[0;34m(self, request_id)\u001b[0m\n\u001b[1;32m    525\u001b[0m         \u001b[0;32mtry\u001b[0m\u001b[0;34m:\u001b[0m\u001b[0;34m\u001b[0m\u001b[0m\n\u001b[1;32m    526\u001b[0m             return receive_message(self.sock, request_id,\n\u001b[0;32m--> 527\u001b[0;31m                                    self.max_message_size)\n\u001b[0m\u001b[1;32m    528\u001b[0m         \u001b[0;32mexcept\u001b[0m \u001b[0mBaseException\u001b[0m \u001b[0;32mas\u001b[0m \u001b[0merror\u001b[0m\u001b[0;34m:\u001b[0m\u001b[0;34m\u001b[0m\u001b[0m\n\u001b[1;32m    529\u001b[0m             \u001b[0mself\u001b[0m\u001b[0;34m.\u001b[0m\u001b[0m_raise_connection_failure\u001b[0m\u001b[0;34m(\u001b[0m\u001b[0merror\u001b[0m\u001b[0;34m)\u001b[0m\u001b[0;34m\u001b[0m\u001b[0m\n",
      "\u001b[0;32m/usr/local/lib/python3.6/dist-packages/pymongo/network.py\u001b[0m in \u001b[0;36mreceive_message\u001b[0;34m(sock, request_id, max_message_size)\u001b[0m\n\u001b[1;32m    161\u001b[0m                             \"message size (%r)\" % (length, max_message_size))\n\u001b[1;32m    162\u001b[0m \u001b[0;34m\u001b[0m\u001b[0m\n\u001b[0;32m--> 163\u001b[0;31m     \u001b[0;32mreturn\u001b[0m \u001b[0m_OpReply\u001b[0m\u001b[0;34m.\u001b[0m\u001b[0munpack\u001b[0m\u001b[0;34m(\u001b[0m\u001b[0m_receive_data_on_socket\u001b[0m\u001b[0;34m(\u001b[0m\u001b[0msock\u001b[0m\u001b[0;34m,\u001b[0m \u001b[0mlength\u001b[0m \u001b[0;34m-\u001b[0m \u001b[0;36m16\u001b[0m\u001b[0;34m)\u001b[0m\u001b[0;34m)\u001b[0m\u001b[0;34m\u001b[0m\u001b[0m\n\u001b[0m\u001b[1;32m    164\u001b[0m \u001b[0;34m\u001b[0m\u001b[0m\n\u001b[1;32m    165\u001b[0m \u001b[0;34m\u001b[0m\u001b[0m\n",
      "\u001b[0;32m/usr/local/lib/python3.6/dist-packages/pymongo/network.py\u001b[0m in \u001b[0;36m_receive_data_on_socket\u001b[0;34m(sock, length)\u001b[0m\n\u001b[1;32m    168\u001b[0m     \u001b[0;32mwhile\u001b[0m \u001b[0mlength\u001b[0m\u001b[0;34m:\u001b[0m\u001b[0;34m\u001b[0m\u001b[0m\n\u001b[1;32m    169\u001b[0m         \u001b[0;32mtry\u001b[0m\u001b[0;34m:\u001b[0m\u001b[0;34m\u001b[0m\u001b[0m\n\u001b[0;32m--> 170\u001b[0;31m             \u001b[0mchunk\u001b[0m \u001b[0;34m=\u001b[0m \u001b[0msock\u001b[0m\u001b[0;34m.\u001b[0m\u001b[0mrecv\u001b[0m\u001b[0;34m(\u001b[0m\u001b[0mlength\u001b[0m\u001b[0;34m)\u001b[0m\u001b[0;34m\u001b[0m\u001b[0m\n\u001b[0m\u001b[1;32m    171\u001b[0m         \u001b[0;32mexcept\u001b[0m \u001b[0;34m(\u001b[0m\u001b[0mIOError\u001b[0m\u001b[0;34m,\u001b[0m \u001b[0mOSError\u001b[0m\u001b[0;34m)\u001b[0m \u001b[0;32mas\u001b[0m \u001b[0mexc\u001b[0m\u001b[0;34m:\u001b[0m\u001b[0;34m\u001b[0m\u001b[0m\n\u001b[1;32m    172\u001b[0m             \u001b[0;32mif\u001b[0m \u001b[0m_errno_from_exception\u001b[0m\u001b[0;34m(\u001b[0m\u001b[0mexc\u001b[0m\u001b[0;34m)\u001b[0m \u001b[0;34m==\u001b[0m \u001b[0merrno\u001b[0m\u001b[0;34m.\u001b[0m\u001b[0mEINTR\u001b[0m\u001b[0;34m:\u001b[0m\u001b[0;34m\u001b[0m\u001b[0m\n",
      "\u001b[0;31mMemoryError\u001b[0m: "
     ]
    }
   ],
   "source": [
    "tweetdf = pd.DataFrame(list(db.tweets.find({}, {'timeanddate': 1, 'polarity': 1, 'subjectivity': 1})))\n",
    "tweetdf['timeanddate'] = pd.to_datetime(tweetdf['timeanddate'])\n",
    "tweetdf['subjectivity'] = pd.to_numeric(tweetdf['subjectivity'])\n",
    "tweetdf['polarity'] = pd.to_numeric(tweetdf['polarity'])"
   ]
  },
  {
   "cell_type": "markdown",
   "metadata": {},
   "source": [
    "Take the datetimes from the start of the information and then create a couple of variables so we can search between 10 minute intervals"
   ]
  },
  {
   "cell_type": "code",
   "execution_count": null,
   "metadata": {
    "scrolled": true
   },
   "outputs": [],
   "source": [
    "#c = parse(tweetdf['timeanddate'].iloc[0]) # get first datetime and then turn the str(datetime) into datetime value\n",
    "c = tweetdf['timeanddate'].iloc[0]\n",
    "b = datetime.timedelta(minutes=10) # timedelta of 10 minutes\n",
    "a = c - b # This is the start \n",
    "print(c)\n",
    "print(type(c))\n",
    "a += 2*b\n",
    "print(a)\n",
    "print(type(a))"
   ]
  },
  {
   "cell_type": "markdown",
   "metadata": {},
   "source": [
    "Define a function to iterate through the mongodb and get the average of field x"
   ]
  },
  {
   "cell_type": "code",
   "execution_count": null,
   "metadata": {},
   "outputs": [],
   "source": [
    "# might be able to use this below to chose the range of stuff\n",
    "timeframe = tickerdf[(tickerdf['timeanddate'] > c) & (tickerdf['timeanddate'] <= a)]\n",
    "print(timeframe)"
   ]
  },
  {
   "cell_type": "code",
   "execution_count": null,
   "metadata": {},
   "outputs": [],
   "source": [
    "# print off the polarity/subjectivity means or medians of something\n",
    "\n",
    "#print(timeframe['polarity'].mean())\n",
    "#print(timeframe['subjectivity'].mean())\n",
    "#print(timeframe['polarity'].median())\n",
    "#print(timeframe['subjectivity'].median())"
   ]
  },
  {
   "cell_type": "markdown",
   "metadata": {},
   "source": [
    "Make a new dataframe with more exciting information including means, medians etc: "
   ]
  },
  {
   "cell_type": "code",
   "execution_count": null,
   "metadata": {},
   "outputs": [],
   "source": [
    "# create a bunch of lists that will become dataframe series\n",
    "times = []\n",
    "polaritymeans = []\n",
    "subjectivitymeans = []\n",
    "polaritymedians = []\n",
    "subjectivitymedians = []\n",
    "polaritymeanindices = []\n",
    "polaritymedianindices = []\n",
    "\n",
    "\n",
    "# then make them dataframe series\n",
    "for index, row in tickerdf.iterrows():\n",
    "    c = row['timeanddate']\n",
    "    b = datetime.timedelta(minutes=10) # timedelta of 10 minutes\n",
    "    a = c - b # This is the start \n",
    "    timeframe = tweetdf[(tweetdf['timeanddate'] > a) & (tweetdf['timeanddate'] <= c)]\n",
    "    times.append(row['timeanddate'])\n",
    "    polaritymeans.append(timeframe['polarity'].mean())\n",
    "    subjectivitymeans.append(timeframe['subjectivity'].mean())\n",
    "    polaritymedians.append(timeframe['polarity'].median())\n",
    "    subjectivitymedians.append(timeframe['subjectivity'].median())\n",
    "    \n",
    "    # Also do the calculations for indices if you want to make them on this loop\n",
    "    polaritymeanindices.append(timeframe['polarity'].mean() * timeframe['subjectivity'].mean())\n",
    "    polaritymedianindices.append(timeframe['polarity'].median() * timeframe['subjectivity'].median())"
   ]
  },
  {
   "cell_type": "code",
   "execution_count": null,
   "metadata": {},
   "outputs": [],
   "source": [
    "# now you've got a list of stuff from iterating through - put them into a dataframe\n",
    "newdf = pd.DataFrame({'timeanddate': times,\n",
    "                     'polaritymeans': polaritymeans,\n",
    "                     'subjectivitymeans': subjectivitymeans,\n",
    "                     'polaritymedians': polaritymedians,\n",
    "                     'subjectivitymedians': subjectivitymedians,\n",
    "                     'polaritymeanindices': polaritymeanindices,\n",
    "                     'polaritymedianindices': polaritymedianindices})\n",
    "\n",
    "# This next bit it just printing out a chart of 3 variables\n",
    "\n",
    "# Variables being:\n",
    "x = newdf['timeanddate']\n",
    "y1 = newdf['polaritymeanindices']\n",
    "y2 = tickerdf['last']\n",
    "y3 = newdf['polaritymedianindices']\n",
    "\n",
    "# Plot variables\n",
    "fig, ax1 = plt.subplots(figsize=(10,5))\n",
    "\n",
    "ax2 = ax1.twinx()\n",
    "ax1.plot(x, y1, 'r-')\n",
    "ax1.plot(x, y3, 'g-')\n",
    "ax2.plot(x, y2, 'b-')\n",
    "\n",
    "ax1.set_xlabel('timeanddate')\n",
    "ax1.set_ylabel('indices', color = 'r')\n",
    "ax2.set_ylabel('price', color = 'b')\n",
    "ax1.set_ylim([-0.1,0.4])\n",
    "# ax1.set_xlim([xmin,xmax])\n",
    "\n",
    "\n",
    "plt.show()"
   ]
  },
  {
   "cell_type": "code",
   "execution_count": null,
   "metadata": {},
   "outputs": [],
   "source": [
    "def correlation_matrix(df):\n",
    "    from matplotlib import pyplot as plt\n",
    "    from matplotlib import cm as cm\n",
    "\n",
    "    fig = plt.figure()\n",
    "    ax1 = fig.add_subplot(111)\n",
    "    cmap = cm.get_cmap('jet', 30)\n",
    "    cax = ax1.imshow(df.corr(), interpolation=\"nearest\", cmap=cmap)\n",
    "    ax1.grid(True)\n",
    "    plt.title('Abalone Feature Correlation')\n",
    "    labels=['Sex','Length','Diam','Height','Whole','Shucked','Viscera','Shell','Rings',]\n",
    "    ax1.set_xticklabels(labels,fontsize=6)\n",
    "    ax1.set_yticklabels(labels,fontsize=6)\n",
    "    # Add colorbar, make sure to specify tick locations to match desired ticklabels\n",
    "    fig.colorbar(cax, ticks=[.75,.8,.85,.90,.95,1])\n",
    "    plt.show()\n",
    "\n",
    "correlation_matrix()"
   ]
  },
  {
   "cell_type": "code",
   "execution_count": null,
   "metadata": {},
   "outputs": [],
   "source": []
  }
 ],
 "metadata": {
  "kernelspec": {
   "display_name": "Python 3",
   "language": "python",
   "name": "python3"
  },
  "language_info": {
   "codemirror_mode": {
    "name": "ipython",
    "version": 3
   },
   "file_extension": ".py",
   "mimetype": "text/x-python",
   "name": "python",
   "nbconvert_exporter": "python",
   "pygments_lexer": "ipython3",
   "version": "3.6.3"
  }
 },
 "nbformat": 4,
 "nbformat_minor": 2
}
